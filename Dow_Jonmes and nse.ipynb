{
  "nbformat": 4,
  "nbformat_minor": 0,
  "metadata": {
    "colab": {
      "name": "Self.ipynb",
      "provenance": [],
      "toc_visible": true,
      "authorship_tag": "ABX9TyMGta/9/bsfiSpdJDaBs2j9",
      "include_colab_link": true
    },
    "kernelspec": {
      "name": "python3",
      "display_name": "Python 3"
    }
  },
  "cells": [
    {
      "cell_type": "markdown",
      "metadata": {
        "id": "view-in-github",
        "colab_type": "text"
      },
      "source": [
        "<a href=\"https://colab.research.google.com/github/alihub007/Python/blob/master/Dow_Jonmes%20and%20nse.ipynb\" target=\"_parent\"><img src=\"https://colab.research.google.com/assets/colab-badge.svg\" alt=\"Open In Colab\"/></a>"
      ]
    },
    {
      "cell_type": "code",
      "metadata": {
        "id": "YR1wOisqx6cV",
        "colab_type": "code",
        "colab": {}
      },
      "source": [
        "%tensorflow_version 2.x\n",
        "import pandas as pd\n",
        "import matplotlib.pyplot as plt\n",
        "import numpy as np\n",
        "from sklearn.model_selection import train_test_split\n",
        "from sklearn.preprocessing import StandardScaler\n",
        "import numpy as np\n",
        "import pandas as pd\n",
        "from tensorflow import keras\n",
        "import tensorflow as tf\n",
        "import matplotlib.pyplot as plt"
      ],
      "execution_count": 0,
      "outputs": []
    },
    {
      "cell_type": "code",
      "metadata": {
        "id": "-or3IZjryG9R",
        "colab_type": "code",
        "colab": {}
      },
      "source": [
        "nse = pd.read_csv('C:\\\\Users\\\\user\\\\Downloads\\\\handson-ml2-master\\\\handson-ml2-master\\\\nsei.csv')\n",
        "nse.set_index('Date', inplace =True)\n",
        "\n",
        "dor = pd.read_csv('C:\\\\Users\\\\user\\\\Downloads\\\\djj.csv')\n",
        "dor.set_index('Date', inplace =True)\n",
        "\n",
        "x = pd.merge(left= nse, left_index=True, right_index=True, right = dor)\n",
        "\n",
        "x = x[['Close_x', 'Close_y']]"
      ],
      "execution_count": 0,
      "outputs": []
    },
    {
      "cell_type": "code",
      "metadata": {
        "id": "bzeUBuYVyJ0f",
        "colab_type": "code",
        "colab": {}
      },
      "source": [
        "def div(housing = x):\n",
        "    xtrain, xtest, ytrain, ytest = train_test_split(np.c_[x['Close_x']], np.c_[x['Close_y']])\n",
        "    xtrain, xval, ytrain, yval = train_test_split(xtrain, ytrain)\n",
        "    scale = StandardScaler()\n",
        "    xtrain = scale.fit_transform(xtrain)\n",
        "    xtest = scale.transform(xtest)\n",
        "    xval = scale.transform(xval)\n",
        "    \n",
        "    return xtrain, xtest, xval, ytrain, ytest, yval"
      ],
      "execution_count": 0,
      "outputs": []
    },
    {
      "cell_type": "code",
      "metadata": {
        "id": "aNOAssMJyvAI",
        "colab_type": "code",
        "colab": {}
      },
      "source": [
        "xtrain, xtest, xval, ytrain, ytest, yval = div()\n",
        "np.random.seed(42)\n",
        "tf.random.set_random_seed(42)"
      ],
      "execution_count": 0,
      "outputs": []
    },
    {
      "cell_type": "code",
      "metadata": {
        "id": "Go2KSKWNzvYS",
        "colab_type": "code",
        "colab": {}
      },
      "source": [
        "keras.backend.clear_session()\n",
        "model = keras.models.Sequential([\n",
        "    keras.layers.Dense(500, activation='sigmoid', input_shape =xtrain.shape[1:]),\n",
        "    keras.layers.Dense(1)\n",
        "])"
      ],
      "execution_count": 0,
      "outputs": []
    },
    {
      "cell_type": "code",
      "metadata": {
        "id": "kBUNTRV_z6Yl",
        "colab_type": "code",
        "colab": {}
      },
      "source": [
        "model.compile(loss = 'mse', optimizer=keras.optimizers.SGD(lr=3e-5))"
      ],
      "execution_count": 0,
      "outputs": []
    },
    {
      "cell_type": "code",
      "metadata": {
        "id": "gI8zooIN1sO7",
        "colab_type": "code",
        "colab": {}
      },
      "source": [
        "history = model.fit(xtrain, ytrain, validation_data=[xval, yval] ,epochs=10000)\n",
        "pd.DataFrame(history.history).plot()\n",
        "plt.gca().set_ylim(0,10000000)"
      ],
      "execution_count": 0,
      "outputs": []
    }
  ]
}